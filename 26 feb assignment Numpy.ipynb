{
 "cells": [
  {
   "cell_type": "markdown",
   "id": "206a55a0-2af0-4b5a-9e73-13289faf905d",
   "metadata": {
    "tags": []
   },
   "source": [
    "# Consider the below code to answer further questions:\n",
    "\n",
    "\n",
    "# import numpy as np\n",
    "\n",
    "# list1 = [ ‘1’ , ’2’ , ‘3’ , ‘4’ , ‘5’ ]\n",
    "\n",
    "# array_list = np.array(object = list_)\n",
    "# Q1. Is there any difference in the data type of variables list_ and array_list? If there is then write a code to print the data types of both the variables. "
   ]
  },
  {
   "cell_type": "code",
   "execution_count": 40,
   "id": "77fbb8e1-0d44-43a1-b3a3-691cda8e06ab",
   "metadata": {},
   "outputs": [
    {
     "name": "stdout",
     "output_type": "stream",
     "text": [
      "var1 :- list1\n",
      "<class 'type'>\n",
      "<class 'numpy.ndarray'>\n"
     ]
    }
   ],
   "source": [
    "import numpy as np\n",
    "list1 = [ '1 ', '2' , '3' , '4' , '5' ]\n",
    "array_list = np.array(object = list1)\n",
    "print(\"var1 :- the data type of  list1\")\n",
    "print(type(list))\n",
    "print(type(array_list))"
   ]
  },
  {
   "cell_type": "markdown",
   "id": "7ad28a11-4700-465b-88a6-66cb55f0cbb2",
   "metadata": {},
   "source": [
    "# Q2. Write a code to print the data type of each and every element of both the variables list1 and array_list."
   ]
  },
  {
   "cell_type": "code",
   "execution_count": 33,
   "id": "6ff317a7-0ec8-467f-b073-185559ff38f4",
   "metadata": {},
   "outputs": [
    {
     "name": "stdout",
     "output_type": "stream",
     "text": [
      "Data types in list1 :- \n",
      "{'1 '} <class 'str'>\n",
      "{'2'} <class 'str'>\n",
      "{'3'} <class 'str'>\n",
      "{'4'} <class 'str'>\n",
      "{'5'} <class 'str'>\n",
      "\n",
      "Data types in array_list : - \n",
      "{'1 '} <class 'numpy.str_'>\n",
      "{'2'} <class 'numpy.str_'>\n",
      "{'3'} <class 'numpy.str_'>\n",
      "{'4'} <class 'numpy.str_'>\n",
      "{'5'} <class 'numpy.str_'>\n"
     ]
    }
   ],
   "source": [
    "import numpy as np\n",
    "list1 = [ '1 ', '2' , '3' , '4' , '5' ]\n",
    "array_list = np.array(object = list1)\n",
    "print('Data types in list1 :- ')\n",
    "for i in list1:\n",
    "    print({i},type(i))\n",
    "print()    \n",
    "\n",
    "print('Data types in array_list : - ')\n",
    "for i in array_list:\n",
    "    print({i},type(i))"
   ]
  },
  {
   "cell_type": "markdown",
   "id": "0f499538-d7e0-463b-8341-d83879f3495d",
   "metadata": {},
   "source": [
    "# Q3. Considering the following changes in the variable, array_list:\n",
    "\n",
    "# array_list = np.array(object = list1, dtype = int)\n",
    "\n",
    "# Will there be any difference in the data type of the elements present in both the variables, list_ and\n",
    "# arra_list? If so then print the data types of each and every element present in both the variables, list_\n",
    "# and arra_list.\n",
    "\n"
   ]
  },
  {
   "cell_type": "code",
   "execution_count": 103,
   "id": "0509da5f-0b05-4db6-9b6b-762d35602664",
   "metadata": {},
   "outputs": [
    {
     "name": "stdout",
     "output_type": "stream",
     "text": [
      "Datatype of list1:\n",
      "\n",
      "{'1 '} <class 'str'>\n",
      "{'2'} <class 'str'>\n",
      "{'3'} <class 'str'>\n",
      "{'4'} <class 'str'>\n",
      "{'5'} <class 'str'>\n",
      "\n",
      "Data type of array_list:\n",
      "\n",
      "{1} <class 'numpy.int64'>\n",
      "{2} <class 'numpy.int64'>\n",
      "{3} <class 'numpy.int64'>\n",
      "{4} <class 'numpy.int64'>\n",
      "{5} <class 'numpy.int64'>\n"
     ]
    }
   ],
   "source": [
    "array_list = np.array(object=list1, dtype=int)\n",
    "\n",
    "print(\"Datatype of list1:\")\n",
    "print()\n",
    "for i1 in list1:\n",
    "    print({i1},type(i1))\n",
    "print()\n",
    "print(\"Data type of array_list:\")\n",
    "print()\n",
    "for i2 in array_list:\n",
    "    print({i2},type(i2))"
   ]
  },
  {
   "cell_type": "markdown",
   "id": "7e5536fb-d73a-42c0-b152-78ef85e6a76f",
   "metadata": {},
   "source": [
    "# Consider the below code to answer further questions:\n",
    "\n",
    "# import numpy as np\n",
    "\n",
    "# num_list = [ [ 1 , 2 , 3 ] , [ 4 , 5 , 6 ] ]\n",
    "\n",
    "# num_array = np.array(object = num_list)"
   ]
  },
  {
   "cell_type": "markdown",
   "id": "2a46a5f1-97da-490f-9755-75dc66ceda71",
   "metadata": {},
   "source": [
    "# Q4. Write a code to find the following characteristics of variable , num_array:\n",
    "\n",
    "# (i)\t shape\n",
    "\n",
    "# (ii) size"
   ]
  },
  {
   "cell_type": "code",
   "execution_count": 10,
   "id": "6d402160-f43c-4f0e-bb6c-726f901dae75",
   "metadata": {},
   "outputs": [
    {
     "name": "stdout",
     "output_type": "stream",
     "text": [
      "datatype of the num_array : (2, 3)\n",
      "datatype of the num_array : 6\n"
     ]
    }
   ],
   "source": [
    "import numpy as np\n",
    "num_list = [ [ 1 , 2 , 3 ] , [ 4 , 5 , 6 ] ]\n",
    "num_array = np.array(object = num_list)\n",
    "print(\"datatype of the num_array :\", np.shape(num_array))\n",
    "print(\"datatype of the num_array :\" , np.size(num_array))"
   ]
  },
  {
   "cell_type": "code",
   "execution_count": 11,
   "id": "ee0dbd6b-8cab-414a-b9d8-a8a99c836d31",
   "metadata": {},
   "outputs": [
    {
     "data": {
      "text/plain": [
       "[[1, 2, 3], [4, 5, 6]]"
      ]
     },
     "execution_count": 11,
     "metadata": {},
     "output_type": "execute_result"
    }
   ],
   "source": [
    "num_list"
   ]
  },
  {
   "cell_type": "markdown",
   "id": "65501c90-3aa3-4dc5-9075-7aa5193e6b59",
   "metadata": {
    "tags": []
   },
   "source": [
    "# Q5. Write a code to create numpy array of 3*3 matrix containing zeros only, using a numpy array creation function.\n",
    "# [Hint: The size of the array will be 9 and the shape will be (3,3).]"
   ]
  },
  {
   "cell_type": "code",
   "execution_count": 20,
   "id": "625e931b-4c96-4420-b1a4-96f51b3c6a1c",
   "metadata": {},
   "outputs": [
    {
     "data": {
      "text/plain": [
       "array([[0, 0, 0],\n",
       "       [0, 0, 0],\n",
       "       [0, 0, 0]])"
      ]
     },
     "execution_count": 20,
     "metadata": {},
     "output_type": "execute_result"
    }
   ],
   "source": [
    "import numpy as np\n",
    "a = np.array([(0,0,0),(0,0,0),(0,0,0)])\n",
    "a"
   ]
  },
  {
   "cell_type": "code",
   "execution_count": 21,
   "id": "1cc126e0-ddfb-4216-ad27-7dafd48821a6",
   "metadata": {},
   "outputs": [
    {
     "data": {
      "text/plain": [
       "9"
      ]
     },
     "execution_count": 21,
     "metadata": {},
     "output_type": "execute_result"
    }
   ],
   "source": [
    "a.size"
   ]
  },
  {
   "cell_type": "code",
   "execution_count": 22,
   "id": "c3bce6c4-b053-4617-bfd3-ac3e542f3a5a",
   "metadata": {},
   "outputs": [
    {
     "data": {
      "text/plain": [
       "(3, 3)"
      ]
     },
     "execution_count": 22,
     "metadata": {},
     "output_type": "execute_result"
    }
   ],
   "source": [
    "a.shape"
   ]
  },
  {
   "cell_type": "markdown",
   "id": "e83fbc2f-8b13-4677-a7f1-51ae2dc37812",
   "metadata": {},
   "source": [
    "# Q6. Create an identity matrix of shape (5,5) using numpy functions?\n",
    "# [Hint: An identity matrix is a matrix containing 1 diagonally and other elements will be 0.]"
   ]
  },
  {
   "cell_type": "code",
   "execution_count": 37,
   "id": "a2b840af-316e-4115-b2e7-db739e6991b8",
   "metadata": {},
   "outputs": [],
   "source": [
    "a1 = np.array([5,5,5,5,5])"
   ]
  },
  {
   "cell_type": "code",
   "execution_count": 38,
   "id": "66e90a25-470f-4776-a3b7-d74acdddc708",
   "metadata": {},
   "outputs": [
    {
     "data": {
      "text/plain": [
       "array([[5, 0, 0, 0, 0],\n",
       "       [0, 5, 0, 0, 0],\n",
       "       [0, 0, 5, 0, 0],\n",
       "       [0, 0, 0, 5, 0],\n",
       "       [0, 0, 0, 0, 5]])"
      ]
     },
     "execution_count": 38,
     "metadata": {},
     "output_type": "execute_result"
    }
   ],
   "source": [
    "np.diag(a1)"
   ]
  },
  {
   "cell_type": "code",
   "execution_count": null,
   "id": "f888d392-a068-47cf-a784-a2b3291bcd13",
   "metadata": {},
   "outputs": [],
   "source": []
  }
 ],
 "metadata": {
  "kernelspec": {
   "display_name": "Python 3 (ipykernel)",
   "language": "python",
   "name": "python3"
  },
  "language_info": {
   "codemirror_mode": {
    "name": "ipython",
    "version": 3
   },
   "file_extension": ".py",
   "mimetype": "text/x-python",
   "name": "python",
   "nbconvert_exporter": "python",
   "pygments_lexer": "ipython3",
   "version": "3.10.8"
  }
 },
 "nbformat": 4,
 "nbformat_minor": 5
}
